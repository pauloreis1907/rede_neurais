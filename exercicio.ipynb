{
 "cells": [
  {
   "cell_type": "code",
   "execution_count": null,
   "id": "1d47b5f2-9f47-4200-bad6-73e4d251fef4",
   "metadata": {},
   "outputs": [],
   "source": [
    "pip install tensorflow"
   ]
  },
  {
   "cell_type": "code",
   "execution_count": 9,
   "id": "9e412e3f-681f-4d2f-8684-3aeae8d419f1",
   "metadata": {},
   "outputs": [
    {
     "name": "stdout",
     "output_type": "stream",
     "text": [
      "tanh-1.2 = -0.8336546070121552\n",
      "tanh0.0 = 0.0\n",
      "tanh1.5 = 0.9051482536448665\n",
      "n Nota: tanh() aproxima-se -1 para x << 0 de 1 para x >> 0\n"
     ]
    }
   ],
   "source": [
    "import numpy as np\n",
    "\n",
    "z= [-1.2,0.0,1.5]\n",
    "tanh_valor = [np.tanh(x) for x in z]\n",
    "for x,val in zip (z, tanh_valor):\n",
    "    print(f'tanh{x} = {val}')\n",
    "print('n Nota: tanh() aproxima-se -1 para x << 0 de 1 para x >> 0')"
   ]
  },
  {
   "cell_type": "code",
   "execution_count": 13,
   "id": "9f05191d-4912-4b4d-82f2-a21138f645b0",
   "metadata": {},
   "outputs": [
    {
     "name": "stdout",
     "output_type": "stream",
     "text": [
      "Entrada: [7.0e+02 2.0e-01 1.2e+01]\n",
      "Pesos:[ 0.1 -0.7  0.9]\n",
      "Saida do neurõnio:77.66.2f\n",
      "Alta probabilidade de produção\n"
     ]
    }
   ],
   "source": [
    "#função menu \n",
    "def relu(x):\n",
    "    return max(0, x)\n",
    "\n",
    "#entradas do neurõnios (ex: radição solar, cobertura de nuvens, hora do dia)\n",
    "entrada = np.array([700,0.2 , 12])\n",
    "\n",
    "#pesos dos conexões (impotancia de cada entrada)\n",
    "pesos = np.array([0.1, -0.7, 0.9])\n",
    "\n",
    "bias = -3\n",
    "\n",
    "#somapoderada\n",
    "soma = np.dot(entrada,pesos)+ bias\n",
    "#chama a fução relu\n",
    "saida = relu(soma)\n",
    "\n",
    "print(f'Entrada: {entrada}')\n",
    "print(f'Pesos:{pesos}')\n",
    "print(f'Saida do neurõnio:{saida}.2f')\n",
    "\n",
    "#interpretação\n",
    "if saida < 200:\n",
    "    print('Alta probabilidade de produção')\n",
    "else:\n",
    "    print('Produção baixa')"
   ]
  },
  {
   "cell_type": "code",
   "execution_count": 22,
   "id": "d9d897eb-2acd-4662-b7f2-fd6298a617dc",
   "metadata": {},
   "outputs": [
    {
     "name": "stdout",
     "output_type": "stream",
     "text": [
      "Saída do neurônio: -1.0000\n",
      "Desconfortável\n"
     ]
    }
   ],
   "source": [
    "def tanh(x):\n",
    "    return np.tanh(x)\n",
    "\n",
    "# Entrada: temperatura (°C), umidade (fração), velocidade do vento (km/h)\n",
    "entrada = np.array([20, 0.26, 10])\n",
    "\n",
    "# Pesos do neurônio\n",
    "pesos = np.array([-0.7, -0.5, 0.2])\n",
    "\n",
    "# Bias (viés)\n",
    "bias = -10\n",
    "\n",
    "# Soma ponderada\n",
    "soma = np.dot(entrada, pesos) + bias\n",
    "\n",
    "# Saída com função tanh\n",
    "saida = tanh(soma)\n",
    "print(f'Saída do neurônio: {saida:.4f}')\n",
    "\n",
    "# Classificação baseada na saída\n",
    "if saida > 0.5:\n",
    "    print('Conforto térmico alto')\n",
    "elif saida < -0.5:\n",
    "    print('Desconfortável')\n",
    "else:\n",
    "    print('Clima moderado')\n"
   ]
  },
  {
   "cell_type": "code",
   "execution_count": 56,
   "id": "567aa57c-ea24-484b-a7b0-b32d9d56b3e1",
   "metadata": {},
   "outputs": [
    {
     "name": "stdout",
     "output_type": "stream",
     "text": [
      "saida com Tanh: 0.9999\n",
      "alerta maximo\n",
      "None\n",
      "\n",
      "saida com sigmold: 0.0075\n",
      "alerta maximo\n",
      "\n",
      "saida com relu: 4.8960\n",
      "sem risco\n"
     ]
    }
   ],
   "source": [
    "def  tanh (x):\n",
    "    return np.tanh(x)\n",
    "def sigmold (x):\n",
    "    return 1 /(1 * np.exp(x))\n",
    "def relu (x):\n",
    "    return max(0, x)\n",
    ";\n",
    "entrada = np.array([10, 0.26, 10])\n",
    "\n",
    "pesos = np.array([-0.5, -0.4, 1.2])\n",
    "\n",
    "bias = -2\n",
    "\n",
    "soma = np.dot(entrada, pesos) + bias\n",
    "\n",
    "def clasifica_saida(saida):\n",
    "    if saida >= 0.5:\n",
    "        print('alerta maximo')\n",
    "    elif saida <= -5:\n",
    "        print('situação moderada')\n",
    "    else:\n",
    "        print('sem risco')\n",
    "saidatanh = tanh(soma)\n",
    "print(f'saida com Tanh: {saidatanh:.4f}')\n",
    "print(clasifica_saida(saidatanh))\n",
    "\n",
    "saidasigmold  = sigmold (soma)\n",
    "print(f'\\nsaida com sigmold: {saidasigmold:.4f}')\n",
    "if saidasigmold > 0:\n",
    "    print('alerta maximo')\n",
    "elif saidasigmold < 0:\n",
    "    print('situação moderada')\n",
    "else:\n",
    "    print('sem risco')\n",
    "\n",
    "saidarelu  = relu(soma)\n",
    "print(f'\\nsaida com relu: {saidarelu:.4f}')\n",
    "if saidarelu > 5:\n",
    "    print('alerta maximo')\n",
    "elif saidarelu < -5:\n",
    "    print('situação moderada')\n",
    "else:\n",
    "    print('sem risco')"
   ]
  },
  {
   "cell_type": "code",
   "execution_count": null,
   "id": "5f54df9e-ecdc-4fa8-a026-c78ad010bd42",
   "metadata": {},
   "outputs": [],
   "source": [
    "temp = float(input(\"Informe a temperatura (entre 0 e 1): \"))\n",
    "umid = float(input(\"Informe a umidade relativa (entre 0 e 1): \"))\n",
    "fumaca = float(input(\"Informe o índice de fumaça no ar (0 a 10): \"))\n",
    "\n",
    "# Entradas e pesos\n",
    "entradas = np.array([temp, umid, fumaca])\n",
    "pesos = np.array([0.6, -0.4, 1.2])\n",
    "bias = -10\n",
    "\n",
    "# Soma ponderada\n",
    "soma_ponderada = np.dot(entradas, pesos) + bias\n",
    "\n",
    "# Ativações\n",
    "saida_relu = relu(soma_ponderada)\n",
    "saida_sigmoid = sigmoid(soma_ponderada)\n",
    "saida_tanh = tanh(soma_ponderada)\n",
    "\n",
    "# Exibe os resultados\n",
    "print(\"\\n== Resultados ==\")\n",
    "print(f\"Soma Ponderada: {soma_ponderada:.2f}\")\n",
    "print(f\"Saída ReLU: {saida_relu:.2f}\")\n",
    "print(f\"Saída Sigmoid: {saida_sigmoid:.5f}\")\n",
    "print(f\"Saída Tanh: {saida_tanh:.5f}\")\n",
    "\n",
    "# Interpretação\n",
    "print(\"\\n* Interpretação das Saídas:\")\n",
    "if saida_relu > 5:\n",
    "    print(\"* ReLU: ALERTA MÁXIMO\")\n",
    "else:\n",
    "    print(\"* ReLU: Situação sob controle\")\n",
    "\n",
    "if saida_sigmoid > 0.5:\n",
    "    print(\"* Sigmoid: Situação moderada\")\n",
    "else:\n",
    "    print(\"* Sigmoid: Situação segura\")\n",
    "\n",
    "if saida_tanh < 0:\n",
    "    print(\"* tanh: Sem risco\")\n",
    "else:\n",
    "    print(\"* tanh: Estado crítico\")"
   ]
  }
 ],
 "metadata": {
  "kernelspec": {
   "display_name": "Python 3 (ipykernel)",
   "language": "python",
   "name": "python3"
  },
  "language_info": {
   "codemirror_mode": {
    "name": "ipython",
    "version": 3
   },
   "file_extension": ".py",
   "mimetype": "text/x-python",
   "name": "python",
   "nbconvert_exporter": "python",
   "pygments_lexer": "ipython3",
   "version": "3.12.7"
  }
 },
 "nbformat": 4,
 "nbformat_minor": 5
}
