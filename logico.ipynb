{
 "cells": [
  {
   "cell_type": "code",
   "execution_count": 9,
   "id": "2b0180e3-59e9-46c3-a1be-313b7d8034d6",
   "metadata": {},
   "outputs": [],
   "source": [
    "import numpy as np"
   ]
  },
  {
   "cell_type": "code",
   "execution_count": 13,
   "id": "fb4e82b0-b8c1-4fc6-b06d-1992a0008686",
   "metadata": {},
   "outputs": [
    {
     "name": "stdout",
     "output_type": "stream",
     "text": [
      "Peso finais [-0.2  0.2  0.1]\n",
      "Testes\n",
      "Entrada[0 0],Saida: 0\n",
      "Entrada[0 1],Saida: 0\n",
      "Entrada[1 0],Saida: 0\n",
      "Entrada[1 1],Saida: 1\n"
     ]
    }
   ],
   "source": [
    "class perceptron:\n",
    "    def __init__(self, input_size, learning_rate=0.1):\n",
    "        self.weights = np.zeros(input_size + 1)\n",
    "        self.lr = learning_rate\n",
    "    def activation(self, x):\n",
    "        return 1 if x >= 0 else 0\n",
    "    def predict(self, x):\n",
    "        x_with_bias = np.insert(x, 0, 1)\n",
    "        weighted_sum = np.dot(self.weights, x_with_bias)\n",
    "        return self.activation(weighted_sum)\n",
    "    def train(self, training_inputs,labels, epochs=10):\n",
    "        for _ in range(epochs):\n",
    "            for x_val, label in zip(training_inputs, labels):\n",
    "                prediction = self.predict(x_val)\n",
    "                error = label - prediction\n",
    "                x_with_bias = np.insert(x_val,0,1)\n",
    "                self.weights += self.lr * error * x_with_bias\n",
    "\n",
    "if __name__ == '__main__':\n",
    "    inputs = np.array([\n",
    "        [0,0],\n",
    "        [0,1],\n",
    "        [1,0],\n",
    "        [1,1],\n",
    "    ])\n",
    "\n",
    "labels = np.array([0,0,0,1])\n",
    "perceptron = perceptron(input_size=2)\n",
    "perceptron.train(inputs, labels,epochs=10)\n",
    "print('Peso finais',perceptron.weights)\n",
    "print('Testes')\n",
    "for x_val in inputs:\n",
    "    print(f'Entrada{x_val},Saida: {perceptron.predict(x_val)}')"
   ]
  }
 ],
 "metadata": {
  "kernelspec": {
   "display_name": "Python 3 (ipykernel)",
   "language": "python",
   "name": "python3"
  },
  "language_info": {
   "codemirror_mode": {
    "name": "ipython",
    "version": 3
   },
   "file_extension": ".py",
   "mimetype": "text/x-python",
   "name": "python",
   "nbconvert_exporter": "python",
   "pygments_lexer": "ipython3",
   "version": "3.12.7"
  }
 },
 "nbformat": 4,
 "nbformat_minor": 5
}
