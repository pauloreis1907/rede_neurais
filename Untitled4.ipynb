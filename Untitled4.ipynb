{
 "cells": [
  {
   "cell_type": "code",
   "execution_count": 24,
   "id": "50bd970b-eda6-4af8-8069-506b5c6ef8e8",
   "metadata": {},
   "outputs": [
    {
     "ename": "IndentationError",
     "evalue": "expected an indented block after 'while' statement on line 1 (4149556039.py, line 2)",
     "output_type": "error",
     "traceback": [
      "\u001b[1;36m  Cell \u001b[1;32mIn[24], line 2\u001b[1;36m\u001b[0m\n\u001b[1;33m    mostrar_menu()\u001b[0m\n\u001b[1;37m    ^\u001b[0m\n\u001b[1;31mIndentationError\u001b[0m\u001b[1;31m:\u001b[0m expected an indented block after 'while' statement on line 1\n"
     ]
    }
   ],
   "source": [
    "    while true:\n",
    "    mostrar_menu()\n",
    "    opcao = int(input('escolha  uma opçao:'))\n",
    "     if opcao == 1:\n",
    "       calcular_area_triangulo()\n",
    "    elif opcao == 2: \n",
    "     calcular_area_retangulo()\n",
    "    elif opcao == 3:\n",
    "       calcular_area_circulo()\n",
    "    elif opcao == 4:\n",
    "       calcular_area_losangulo()\n",
    "    elif opcao == 5:\n",
    "       calcular_area_trapezio()\n",
    "    elif opcao == 6:\n",
    "       calcular_area_quadrado()\n",
    "    elif == 0:\n",
    "    print('finalizado')\n",
    "    break\n",
    "    else:\n",
    "    print('nao existe essa opcao')   "
   ]
  },
  {
   "cell_type": "code",
   "execution_count": 23,
   "id": "58f8b5fd-5320-4552-9811-c89ddc169373",
   "metadata": {},
   "outputs": [
    {
     "name": "stdout",
     "output_type": "stream",
     "text": [
      "andre citha 80\n"
     ]
    }
   ],
   "source": [
    "carga_horaria=80\n",
    "print('andre', 'citha', carga_horaria)"
   ]
  },
  {
   "cell_type": "code",
   "execution_count": 8,
   "id": "78b3ecdc-9a25-4f4f-ae7b-89e1f85b1420",
   "metadata": {},
   "outputs": [
    {
     "data": {
      "text/plain": [
       "6"
      ]
     },
     "execution_count": 8,
     "metadata": {},
     "output_type": "execute_result"
    }
   ],
   "source": [
    "def minha_soma(num1, num2, num3):\n",
    "    return num1 + num2 + num3\n",
    "minha_soma(2,2,2)"
   ]
  },
  {
   "cell_type": "code",
   "execution_count": 30,
   "id": "96f8c817-0b1a-442a-aefe-db0d1a4064ce",
   "metadata": {},
   "outputs": [
    {
     "name": "stdout",
     "output_type": "stream",
     "text": [
      "enviar o produto{} para a area de bebidas alcoolicas. beb46275\n",
      "enviar o produto{} para a area de bebidas alcoolicas. BEB31623\n",
      "enviar o produto{} para a area de bebidas alcoolicas. BEB73344\n",
      "enviar o produto{} para a area de bebidas alcoolicas. BEB80694\n",
      "enviar o produto{} para a area de bebidas alcoolicas. BEB19495\n",
      "enviar o produto{} para a area de bebidas alcoolicas. BEB97471\n",
      "enviar o produto{} para a area de bebidas alcoolicas. BEB62362\n",
      "enviar o produto{} para a area de bebidas alcoolicas. BEB85146\n",
      "enviar o produto{} para a area de bebidas alcoolicas. BEB48898\n",
      "enviar o produto{} para a area de bebidas alcoolicas. BEB79496\n",
      "enviar o produto{} para a area de bebidas alcoolicas. BEB15385\n",
      "enviar o produto{} para a area de bebidas alcoolicas. BEB24213\n",
      "enviar o produto{} para a area de bebidas alcoolicas. BEB56262\n",
      "enviar o produto{} para a area de bebidas alcoolicas. BEB75073\n"
     ]
    }
   ],
   "source": [
    "def eh_alcoolica(bebida):\n",
    "    bebida = bebida.upper()\n",
    "    if 'BEB' in bebida:\n",
    "        return True\n",
    "    else:\n",
    "        return False\n",
    "produtos=['beb46275','TFA23962','TFA64715','TFA69555','TFA56743','BSA45510','TFA44968','CAR75448','CAR23596','CAR13490','BBE21365','BEB31623','BSA62419','BEB73344','TFA20079','BEB80694','BSA11769','BEB19495','TFA14792','TFA78043','BSA33484','BEB97471','BEB62362','TFA27311','TFA17715','BEB85146','BEB48898','BEB79496','CAR38417','TFA19947','TFA58799','CAR94811','BSA59251','BEB15385','BEB24213','BEB56262','BSA96915','CAR53454','BEB75073']\n",
    "for produto in produtos:\n",
    "    if eh_alcoolica(produto):\n",
    "        print('enviar o produto{} para a area de bebidas alcoolicas.',format(produto))\n"
   ]
  },
  {
   "cell_type": "code",
   "execution_count": 31,
   "id": "93453260-f3f4-4c93-868e-9b3b1340288a",
   "metadata": {},
   "outputs": [
    {
     "data": {
      "text/plain": [
       "12"
      ]
     },
     "execution_count": 31,
     "metadata": {},
     "output_type": "execute_result"
    }
   ],
   "source": [
    "def dobro(numero):\n",
    "    return numero*2\n",
    "dobro(6)"
   ]
  },
  {
   "cell_type": "code",
   "execution_count": 35,
   "id": "07937d7c-e8b6-465f-a581-7bde84392b85",
   "metadata": {},
   "outputs": [
    {
     "data": {
      "text/plain": [
       "9"
      ]
     },
     "execution_count": 35,
     "metadata": {},
     "output_type": "execute_result"
    }
   ],
   "source": [
    "def soma(a, b):\n",
    "    return a+b\n",
    "soma(4, 5)"
   ]
  },
  {
   "cell_type": "code",
   "execution_count": 40,
   "id": "03f53881-7635-4d03-9ad8-0e630473bc0b",
   "metadata": {},
   "outputs": [
    {
     "data": {
      "text/plain": [
       "False"
      ]
     },
     "execution_count": 40,
     "metadata": {},
     "output_type": "execute_result"
    }
   ],
   "source": [
    "def eh_par(n):\n",
    "    if n%2 == 0: \n",
    "        return True\n",
    "    else:\n",
    "        return False\n",
    "eh_par(3)"
   ]
  },
  {
   "cell_type": "code",
   "execution_count": 43,
   "id": "58b0313d-b0a5-499c-a873-3eda39af4ffc",
   "metadata": {},
   "outputs": [],
   "source": [
    "#6. Crie uma função que retorne o comprimento de uma string. \n",
    "#Explicação: Receba a string como parâmetro e use a função len para retornar seu tamanho.\n",
    "def comprimento(palavra):\n",
    "    return print(len(palavra))\n",
    "    comprimento('cachorro')"
   ]
  },
  {
   "cell_type": "code",
   "execution_count": 44,
   "id": "029ecc87-a335-4b7b-b71a-c6ebd7c9507c",
   "metadata": {},
   "outputs": [],
   "source": [
    "#7. Crie uma função maior_valor(lista) que retorne o maior número de uma lista. \n",
    "#Explicação: Use a função max() sobre a lista recebida como parâmetro. \n",
    "def maior_valor"
   ]
  },
  {
   "cell_type": "code",
   "execution_count": 45,
   "id": "cb6f09e9-45f8-4159-930e-bd4768491b75",
   "metadata": {},
   "outputs": [],
   "source": [
    "#7. Crie uma função maior_valor(lista) que retorne o maior número de uma lista. \n",
    "#Explicação: Use a função max() sobre a lista recebida como parâmetro. "
   ]
  },
  {
   "cell_type": "code",
   "execution_count": 46,
   "id": "b38eb6d0-1006-41b9-898d-e1e074bece3e",
   "metadata": {},
   "outputs": [],
   "source": [
    "#8. Crie uma função media(lista) que retorne a média dos elementos. \n",
    "#Explicação: Some os elementos com sum() e divida por len(lista). "
   ]
  },
  {
   "cell_type": "code",
   "execution_count": 47,
   "id": "e42e0b2e-a46f-4eda-b010-3042c06278d2",
   "metadata": {},
   "outputs": [],
   "source": [
    "#9. Crie uma função contar_letra(texto, letra) que conte quantas vezes uma letra aparece em \n",
    "#um texto. \n",
    "#Explicação: Use o método count() da string. "
   ]
  },
  {
   "cell_type": "code",
   "execution_count": 48,
   "id": "a1498764-3c09-4223-a839-9e241ee7d909",
   "metadata": {},
   "outputs": [],
   "source": [
    "#10. Crie uma função inverte(texto) que retorne o texto ao contrário. \n",
    "#Explicação: Use fatiamento com texto[::-1] para inverter."
   ]
  },
  {
   "cell_type": "code",
   "execution_count": 49,
   "id": "a86b857b-6e84-4eac-9ae3-f8c2c3886088",
   "metadata": {},
   "outputs": [],
   "source": [
    "#11. Crie uma função multiplicar_lista(lista, n) que multiplica todos os elementos por n. \n",
    "#Explicação: Use um laço for para multiplicar cada item da lista pelo valor n e retorne uma \n",
    "#nova lista. "
   ]
  },
  {
   "cell_type": "code",
   "execution_count": 50,
   "id": "c18cae8f-bc4f-4b47-b2e7-52b819540f69",
   "metadata": {},
   "outputs": [],
   "source": [
    "#12. Crie uma função tabuada(n) que imprima a tabuada do número de 1 a 10. \n",
    "#Explicação: Use um laço for para multiplicar o número de 1 a 10 e exibir os resultados \n",
    "#formatados."
   ]
  },
  {
   "cell_type": "code",
   "execution_count": 51,
   "id": "febcdd3e-d532-4587-86a8-4da24cfd184b",
   "metadata": {},
   "outputs": [],
   "source": [
    "#13. Crie uma função soma_pares(lista) que retorne a soma dos números pares. \n",
    "#Explicação: Use um laço para verificar quais números são pares e acumular a soma em uma \n",
    "#variável."
   ]
  },
  {
   "cell_type": "code",
   "execution_count": null,
   "id": "6ef22a1b-3715-4b6d-b734-8117e41f68d3",
   "metadata": {},
   "outputs": [],
   "source": [
    "album = {'nome':'A Night at the Opera','artista':'Blind Guardian','lançamento':2002}\n",
    "print(type(album)) # <class 'dict'>\n",
    "print(album) # {'nome': 'A Night at the Opera', 'artista': 'Blind Guardian', 'lançamento': 2002}\n",
    "print(album['nome']) # A Night at the Opera\n",
    "print(album['artista']) # Blind Guardian\n",
    "print(album['lançamento']) # 2002\n",
    "\n",
    "\n"
   ]
  },
  {
   "cell_type": "code",
   "execution_count": null,
   "id": "ec6ae4e0-abda-4b31-9edc-7f650110f414",
   "metadata": {},
   "outputs": [],
   "source": [
    "1. Crie um dicionário com as chaves 'nome', 'idade' e 'curso'. \n",
    " {'nome': 'Ana', 'idade': 20, 'curso': 'Engenharia'} "
   ]
  },
  {
   "cell_type": "code",
   "execution_count": null,
   "id": "2e9fa67d-779f-4ded-8720-031473e9cf08",
   "metadata": {},
   "outputs": [],
   "source": [
    "aluno = {\n",
    "    'nome': 'Ana',\n",
    "    'idade': 20,\n",
    "    'curso,:'Engenharia'\n",
    "}\n",
    "aluno['idade"
   ]
  },
  {
   "cell_type": "code",
   "execution_count": 1,
   "id": "84e8730f-2586-4b17-9d2a-0534f564a2ed",
   "metadata": {},
   "outputs": [
    {
     "ename": "SyntaxError",
     "evalue": "incomplete input (2978150954.py, line 87)",
     "output_type": "error",
     "traceback": [
      "\u001b[1;36m  Cell \u001b[1;32mIn[1], line 87\u001b[1;36m\u001b[0m\n\u001b[1;33m    plotar_custo(historia_custo\u001b[0m\n\u001b[1;37m                               ^\u001b[0m\n\u001b[1;31mSyntaxError\u001b[0m\u001b[1;31m:\u001b[0m incomplete input\n"
     ]
    }
   ],
   "source": [
    "import numpy as np\n",
    "import matplotlib.pyplot as plt\n",
    "\n",
    "# -------------------------------\n",
    "# Funções auxiliares\n",
    "# -------------------------------\n",
    "\n",
    "def prever(x, intercepto, inclinacao):\n",
    "    \"\"\"Calcula a predição baseada na equação da reta.\"\"\"\n",
    "    return intercepto + inclinacao * x\n",
    "\n",
    "def custo(intercepto, inclinacao, X, Y):\n",
    "    \"\"\"Calcula o erro quadrático médio (função de custo).\"\"\"\n",
    "    y_previsto = prever(X, intercepto, inclinacao)\n",
    "    return np.mean((y_previsto - Y) ** 2) / 2\n",
    "\n",
    "def plotar_regressao(X, Y, intercepto, inclinacao):\n",
    "    \"\"\"Plota os dados e a reta de regressão.\"\"\"\n",
    "    plt.figure(figsize=(8, 5))\n",
    "    plt.scatter(X, Y, color='green', label='Dados reais')\n",
    "    plt.plot(X, prever(X, intercepto, inclinacao), color='orange', label='Reta de regressão')\n",
    "    plt.xlabel('Horas de Sol por Dia')\n",
    "    plt.ylabel('Produção de Frutas (kg)')\n",
    "    plt.title('Regressão Linear: Produção vs Horas de Sol')\n",
    "    plt.legend()\n",
    "    plt.grid(True)\n",
    "    plt.show()\n",
    "\n",
    "def plotar_custo(historia_custo):\n",
    "    \"\"\"Plota a evolução da função de custo.\"\"\"\n",
    "    plt.figure(figsize=(8, 5))\n",
    "    plt.plot(historia_custo, color='blue')\n",
    "    plt.xlabel('Épocas')\n",
    "    plt.ylabel('Custo')\n",
    "    plt.title('Convergência da Função de Custo')\n",
    "    plt.grid(True)\n",
    "    plt.show()\n",
    "\n",
    "# -------------------------------\n",
    "# Dados de entrada\n",
    "# -------------------------------\n",
    "\n",
    "# Exemplo de dados: Horas de sol (X) e Produção de frutas (Y)\n",
    "X = np.array([4, 5, 6, 7, 8], dtype=float)\n",
    "Y = np.array([40, 45, 54, 56, 62], dtype=float)\n",
    "\n",
    "# Hiperparâmetros\n",
    "taxa_aprendizado = 0.01   # taxa de aprendizado\n",
    "epocas = 10  # número de iterações\n",
    "\n",
    "# Inicialização dos parâmetros\n",
    "intercepto = 0.0\n",
    "inclinacao = 0.0\n",
    "historia_custo = []\n",
    "\n",
    "# -------------------------------\n",
    "# Gradiente Descendente\n",
    "# -------------------------------\n",
    "\n",
    "for _ in range(epocas):\n",
    "    y_previsto = prever(X, intercepto, inclinacao)\n",
    "    erro = y_previsto - Y\n",
    "    grad0 = np.mean(erro)\n",
    "    grad1 = np.mean(erro * X)\n",
    "    intercepto -= taxa_aprendizado * grad0\n",
    "    inclinacao -= taxa_aprendizado * grad1\n",
    "    historia_custo.append(custo(intercepto, inclinacao, X, Y))\n",
    "\n",
    "# -------------------------------\n",
    "# Resultados\n",
    "# -------------------------------\n",
    "\n",
    "print(f\"Intercepto (theta0): {intercepto:.2f} \\n\\tEste valor representa o ponto onde a reta cruza o eixo y.\")\n",
    "print(f\"\\nInclinação (theta1): {inclinacao:.2f} \\n\\tA inclinação da reta indica a taxa de variação da produção de frutas\\n\\tem relação às horas de sol.\")\n",
    "print(f\"\\nCusto final: {historia_custo[-1]:.2f} \\n\\tEste é o valor da função de custo final, que mede o erro médio \\n\\tentre as previsões e os valores reais.\")\n",
    "\n",
    "# Previsão para 6.5 horas de sol\n",
    "x_teste = 6.5\n",
    "y_previsto = prever(x_teste, intercepto, inclinacao)\n",
    "print(f\"\\n\\tOu seja, para {x_teste} horas de sol, a produção estimada é {y_previsto:.2f} kg\\n\\tIsso mostra como a nossa equação de regressão prevê a produção de frutas\\n\\tcom base nas horas de sol.\")\n",
    "\n",
    "# -------------------------------\n",
    "# Visualizações\n",
    "# -------------------------------\n",
    "\n",
    "plotar_regressao(X, Y, intercepto, inclinacao)\n",
    "plotar_custo(historia_custo"
   ]
  },
  {
   "cell_type": "code",
   "execution_count": 2,
   "id": "ca2ded7e-51f7-4b48-a4ef-c383730d7a27",
   "metadata": {},
   "outputs": [
    {
     "name": "stdout",
     "output_type": "stream",
     "text": [
      "Tempo com for: 4.299925088882446\n",
      "Tempo vetorizado: 0.0223696231842041\n"
     ]
    }
   ],
   "source": [
    "import numpy as np\n",
    "import time\n",
    "\n",
    "# Criando um vetor com 10 milhões de elementos\n",
    "a = np.random.rand(10_000_000)\n",
    "b = np.random.rand(10_000_000)\n",
    "\n",
    "# Forma com for\n",
    "start = time.time()\n",
    "resultado = np.zeros_like(a)\n",
    "for i in range(len(a)):\n",
    "    resultado[i] = a[i] + b[i]\n",
    "print(\"Tempo com for:\", time.time() - start)\n",
    "\n",
    "# Forma vetorizada\n",
    "start = time.time()\n",
    "resultado = a + b\n",
    "print(\"Tempo vetorizado:\", time.time() - start)"
   ]
  },
  {
   "cell_type": "code",
   "execution_count": null,
   "id": "42c6a74a-53ab-4022-ba55-14140e32a261",
   "metadata": {},
   "outputs": [],
   "source": []
  }
 ],
 "metadata": {
  "kernelspec": {
   "display_name": "Python 3 (ipykernel)",
   "language": "python",
   "name": "python3"
  },
  "language_info": {
   "codemirror_mode": {
    "name": "ipython",
    "version": 3
   },
   "file_extension": ".py",
   "mimetype": "text/x-python",
   "name": "python",
   "nbconvert_exporter": "python",
   "pygments_lexer": "ipython3",
   "version": "3.12.7"
  }
 },
 "nbformat": 4,
 "nbformat_minor": 5
}
