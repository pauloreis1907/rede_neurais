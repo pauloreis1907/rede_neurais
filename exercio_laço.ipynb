{
 "cells": [
  {
   "cell_type": "code",
   "execution_count": 1,
   "id": "a98977a2-a596-44e9-8b16-e18e06bc26d0",
   "metadata": {},
   "outputs": [
    {
     "name": "stdout",
     "output_type": "stream",
     "text": [
      "!Eu gosto de estudar Algoritmos!\n",
      "!Eu gosto de estudar Algoritmos!\n",
      "!Eu gosto de estudar Algoritmos!\n",
      "!Eu gosto de estudar Algoritmos!\n",
      "!Eu gosto de estudar Algoritmos!\n",
      "!Eu gosto de estudar Algoritmos!\n",
      "!Eu gosto de estudar Algoritmos!\n",
      "!Eu gosto de estudar Algoritmos!\n",
      "!Eu gosto de estudar Algoritmos!\n",
      "!Eu gosto de estudar Algoritmos!\n",
      "!Eu gosto de estudar Algoritmos!\n",
      "!Eu gosto de estudar Algoritmos!\n",
      "!Eu gosto de estudar Algoritmos!\n",
      "!Eu gosto de estudar Algoritmos!\n",
      "!Eu gosto de estudar Algoritmos!\n",
      "!Eu gosto de estudar Algoritmos!\n",
      "!Eu gosto de estudar Algoritmos!\n",
      "!Eu gosto de estudar Algoritmos!\n",
      "!Eu gosto de estudar Algoritmos!\n",
      "!Eu gosto de estudar Algoritmos!\n"
     ]
    }
   ],
   "source": [
    "for i in range(1,21):\n",
    "    print('!Eu gosto de estudar Algoritmos!')"
   ]
  },
  {
   "cell_type": "code",
   "execution_count": 2,
   "id": "6de4e7c6-f732-40f8-8a3b-7997d667b584",
   "metadata": {},
   "outputs": [
    {
     "name": "stdout",
     "output_type": "stream",
     "text": [
      "a soma dos numeros de 1 á 15: 1\n",
      "a soma dos numeros de 1 á 15: 3\n",
      "a soma dos numeros de 1 á 15: 6\n",
      "a soma dos numeros de 1 á 15: 10\n",
      "a soma dos numeros de 1 á 15: 15\n",
      "a soma dos numeros de 1 á 15: 21\n",
      "a soma dos numeros de 1 á 15: 28\n",
      "a soma dos numeros de 1 á 15: 36\n",
      "a soma dos numeros de 1 á 15: 45\n",
      "a soma dos numeros de 1 á 15: 55\n",
      "a soma dos numeros de 1 á 15: 66\n",
      "a soma dos numeros de 1 á 15: 78\n",
      "a soma dos numeros de 1 á 15: 91\n",
      "a soma dos numeros de 1 á 15: 105\n",
      "a soma dos numeros de 1 á 15: 120\n"
     ]
    }
   ],
   "source": [
    "soma = 0\n",
    "for i in range(1,16):\n",
    "    soma += i\n",
    "    print('a soma dos numeros de 1 á 15:',soma)"
   ]
  },
  {
   "cell_type": "code",
   "execution_count": 3,
   "id": "c1b73e48-face-4a27-a8b9-f62a78a9b794",
   "metadata": {},
   "outputs": [
    {
     "name": "stdin",
     "output_type": "stream",
     "text": [
      "digite seu nome victor\n"
     ]
    },
    {
     "name": "stdout",
     "output_type": "stream",
     "text": [
      "victor\n",
      "victor\n",
      "victor\n",
      "victor\n",
      "victor\n",
      "victor\n",
      "victor\n",
      "victor\n",
      "victor\n",
      "victor\n"
     ]
    }
   ],
   "source": [
    "nome = input('digite seu nome')\n",
    "for i in range(10):\n",
    "    print(nome)"
   ]
  },
  {
   "cell_type": "code",
   "execution_count": 4,
   "id": "59ba23bf-b93c-4c6b-b29a-4a86668bd650",
   "metadata": {},
   "outputs": [
    {
     "name": "stdin",
     "output_type": "stream",
     "text": [
      "digite seu nome paulo\n",
      "digite quantas vezes quer rebitar 3\n"
     ]
    },
    {
     "name": "stdout",
     "output_type": "stream",
     "text": [
      "paulo\n",
      "paulo\n",
      "paulo\n"
     ]
    }
   ],
   "source": [
    "nome = input('digite seu nome')\n",
    "n = int(input('digite quantas vezes quer rebitar'))\n",
    "for i in range(n):\n",
    "    print(nome)"
   ]
  },
  {
   "cell_type": "code",
   "execution_count": 5,
   "id": "7a88d7f6-3e2e-46cf-9aa2-ba0e8415e0cf",
   "metadata": {},
   "outputs": [
    {
     "name": "stdin",
     "output_type": "stream",
     "text": [
      "digite o numero 3\n"
     ]
    },
    {
     "name": "stdout",
     "output_type": "stream",
     "text": [
      "a soma dos numeros: 3\n"
     ]
    },
    {
     "name": "stdin",
     "output_type": "stream",
     "text": [
      "digite o numero 3\n"
     ]
    },
    {
     "name": "stdout",
     "output_type": "stream",
     "text": [
      "a soma dos numeros: 6\n"
     ]
    }
   ],
   "source": [
    "soma = 0\n",
    "for i in range(2):\n",
    "    numero = int(input('digite o numero'))\n",
    "    soma += numero\n",
    "    print('a soma dos numeros:',soma)"
   ]
  },
  {
   "cell_type": "code",
   "execution_count": 6,
   "id": "f59223a5-bb06-4842-aecd-69c74d1469ea",
   "metadata": {},
   "outputs": [
    {
     "name": "stdin",
     "output_type": "stream",
     "text": [
      "digite sua idade 12\n"
     ]
    },
    {
     "name": "stdout",
     "output_type": "stream",
     "text": [
      "a soma das idades é: 12\n"
     ]
    },
    {
     "name": "stdin",
     "output_type": "stream",
     "text": [
      "digite sua idade 12\n"
     ]
    },
    {
     "name": "stdout",
     "output_type": "stream",
     "text": [
      "a soma das idades é: 24\n"
     ]
    },
    {
     "name": "stdin",
     "output_type": "stream",
     "text": [
      "digite sua idade 12\n"
     ]
    },
    {
     "name": "stdout",
     "output_type": "stream",
     "text": [
      "a soma das idades é: 36\n"
     ]
    }
   ],
   "source": [
    "soma = 0\n",
    "for i in range(3):\n",
    "    idade = int(input('digite sua idade'))\n",
    "    soma += idade\n",
    "    print('a soma das idades é:',soma)"
   ]
  },
  {
   "cell_type": "code",
   "execution_count": 7,
   "id": "6f7df963-9a94-4284-82f2-50d282bf9a07",
   "metadata": {},
   "outputs": [
    {
     "name": "stdin",
     "output_type": "stream",
     "text": [
      "digite sua idade 12\n"
     ]
    },
    {
     "name": "stdout",
     "output_type": "stream",
     "text": [
      "a media das idades é: 4.0\n"
     ]
    },
    {
     "name": "stdin",
     "output_type": "stream",
     "text": [
      "digite sua idade 12\n"
     ]
    },
    {
     "name": "stdout",
     "output_type": "stream",
     "text": [
      "a media das idades é: 8.0\n"
     ]
    },
    {
     "name": "stdin",
     "output_type": "stream",
     "text": [
      "digite sua idade 112\n"
     ]
    },
    {
     "name": "stdout",
     "output_type": "stream",
     "text": [
      "a media das idades é: 45.333333333333336\n"
     ]
    }
   ],
   "source": [
    "soma = 0\n",
    "for i in range(3):\n",
    "    idade = int(input('digite sua idade'))\n",
    "    soma += idade\n",
    "    media = soma / 3\n",
    "    print('a media das idades é:',media)"
   ]
  },
  {
   "cell_type": "code",
   "execution_count": 8,
   "id": "12422a16-af92-493b-9955-687b609dbf38",
   "metadata": {},
   "outputs": [
    {
     "name": "stdin",
     "output_type": "stream",
     "text": [
      "digite sua idade 12\n",
      "digite sua idade 12\n",
      "digite sua idade 21\n"
     ]
    },
    {
     "name": "stdout",
     "output_type": "stream",
     "text": [
      "a quantidades de maiores são: 1\n"
     ]
    }
   ],
   "source": [
    "maiores = 0\n",
    "for i in range(3):\n",
    "    idade = int(input('digite sua idade'))\n",
    "    if idade >= 18: \n",
    "     maiores += 1\n",
    "print('a quantidades de maiores são:',maiores)"
   ]
  },
  {
   "cell_type": "code",
   "execution_count": 21,
   "id": "004e57b8-ee46-4b56-97b5-8f0618ae6cb6",
   "metadata": {},
   "outputs": [
    {
     "name": "stdin",
     "output_type": "stream",
     "text": [
      "digite seu nome: t\n",
      "digites sua idade 34\n",
      "digite seu nome: y\n",
      "digite sua idade 12\n",
      "digite seu nome: h\n",
      "digite sua idade 32\n"
     ]
    },
    {
     "name": "stdout",
     "output_type": "stream",
     "text": [
      "pessoa com mais nova: h com 32 idade\n"
     ]
    }
   ],
   "source": [
    "nome = input('digite seu nome:')\n",
    "idade = int(input('digites sua idade'))\n",
    "novo_nome= nome\n",
    "nova_idade = idade\n",
    "for i in range(2):\n",
    "    novo_nome = input('digite seu nome:')\n",
    "    nova_idade = int(input('digite sua idade'))\n",
    "    if idade < nova_idade: \n",
    "        nova_idade = idade\n",
    "        novo_nome= nome\n",
    "print('pessoa com mais nova:',novo_nome,'com',nova_idade,'idade')"
   ]
  },
  {
   "cell_type": "code",
   "execution_count": 10,
   "id": "206b7652-c07b-446b-9631-114c471097e7",
   "metadata": {},
   "outputs": [
    {
     "name": "stdin",
     "output_type": "stream",
     "text": [
      "Digite seu numero 3\n"
     ]
    },
    {
     "name": "stdout",
     "output_type": "stream",
     "text": [
      "3 X 1 = 3\n",
      "3 X 2 = 6\n",
      "3 X 3 = 9\n",
      "3 X 4 = 12\n",
      "3 X 5 = 15\n",
      "3 X 6 = 18\n",
      "3 X 7 = 21\n",
      "3 X 8 = 24\n",
      "3 X 9 = 27\n",
      "3 X 10 = 30\n"
     ]
    }
   ],
   "source": [
    "numero = int(input('Digite seu numero'))\n",
    "for i in range(1,11):\n",
    "    resultado = numero * i\n",
    "    print(numero,'X',i,'=',resultado)"
   ]
  },
  {
   "cell_type": "code",
   "execution_count": 11,
   "id": "88001cfe-1e2f-40aa-9a0c-e0cca9ac9584",
   "metadata": {},
   "outputs": [
    {
     "name": "stdin",
     "output_type": "stream",
     "text": [
      "digite seu numero 5\n",
      "digite seu numero 4\n",
      "digite seu numero 3\n",
      "digite seu numero 2\n",
      "digite seu numero 1\n"
     ]
    },
    {
     "name": "stdout",
     "output_type": "stream",
     "text": [
      "a quantidades de numeros  maiores que 8  são: 0\n"
     ]
    }
   ],
   "source": [
    "maiores = 0\n",
    "for i in range(5):\n",
    "    numero = int(input('digite seu numero'))\n",
    "    if numero > 8: \n",
    "     maiores += 1\n",
    "print('a quantidades de numeros  maiores que 8  são:',maiores)"
   ]
  },
  {
   "cell_type": "code",
   "execution_count": 12,
   "id": "9bdad36b-3197-48d2-8bd2-42e631a687e6",
   "metadata": {},
   "outputs": [
    {
     "name": "stdin",
     "output_type": "stream",
     "text": [
      "digite seu numero 1\n",
      "digite seu numero 2\n",
      "digite seu numero 3\n",
      "digite seu numero 4\n",
      "digite seu numero 5\n"
     ]
    },
    {
     "name": "stdout",
     "output_type": "stream",
     "text": [
      "São numeros pares: 2\n"
     ]
    }
   ],
   "source": [
    "pares = 0\n",
    "for i in range(5):\n",
    "    numero = int(input('digite seu numero'))\n",
    "    if numero % 2 == 0: \n",
    "     pares += 1\n",
    "print('São numeros pares:',pares)"
   ]
  },
  {
   "cell_type": "code",
   "execution_count": 13,
   "id": "80ef73da-ab29-48e6-acd5-5373d2f2ae36",
   "metadata": {},
   "outputs": [
    {
     "name": "stdin",
     "output_type": "stream",
     "text": [
      "digite seu numero 2\n",
      "digite seu numero 2\n",
      "digite seu numero 2\n",
      "digite seu numero 2\n",
      "digite seu numero 2\n"
     ]
    },
    {
     "name": "stdout",
     "output_type": "stream",
     "text": [
      "estão entre 0 á 100 : 5\n"
     ]
    }
   ],
   "source": [
    "entre = 0\n",
    "for i in range(5):\n",
    "    numero = int(input('digite seu numero'))\n",
    "    if 0 < numero < 100: \n",
    "     entre += 1\n",
    "print('estão entre 0 á 100 :',entre)"
   ]
  },
  {
   "cell_type": "code",
   "execution_count": 14,
   "id": "93cc3033-1239-4e8b-bb99-1a9c3dbb31f8",
   "metadata": {},
   "outputs": [
    {
     "name": "stdin",
     "output_type": "stream",
     "text": [
      "digite seu numero 2\n",
      "digite seu numero 2\n",
      "digite seu numero 2\n",
      "digite seu numero 2\n",
      "digite seu numero 2\n"
     ]
    },
    {
     "name": "stdout",
     "output_type": "stream",
     "text": [
      "estão entre 0 á 100 : 5\n",
      "estao entre 101 à 200: 0\n",
      "numeros maior que 200: 0\n"
     ]
    }
   ],
   "source": [
    "## entre = 0\n",
    "entre2 = 0\n",
    "igual = 0\n",
    "for i in range(5):\n",
    "    numero = int(input('digite seu numero'))\n",
    "    if 0 <= numero <= 100: \n",
    "     entre += 1\n",
    "    elif  101 <= numero <= 200:\n",
    "     entre2 += 1\n",
    "    elif numero > 200:\n",
    "        igual+= 1\n",
    "print('estão entre 0 á 100 :',entre)\n",
    "print('estao entre 101 à 200:',entre2)\n",
    "print('numeros maior que 200:',igual)"
   ]
  },
  {
   "cell_type": "code",
   "execution_count": 16,
   "id": "a0a6a717-715a-4afc-96ed-52a97c1ea99f",
   "metadata": {},
   "outputs": [
    {
     "name": "stdin",
     "output_type": "stream",
     "text": [
      "digite seu numero, negativo para sair 1\n",
      "digite seu numero, negativo para sair 2\n",
      "digite seu numero, negativo para sair 3\n",
      "digite seu numero, negativo para sair 4\n",
      "digite seu numero, negativo para sair 5\n",
      "digite seu numero, negativo para sair 6\n",
      "digite seu numero, negativo para sair 7\n",
      "digite seu numero, negativo para sair 8\n",
      "digite seu numero, negativo para sair 9\n",
      "digite seu numero, negativo para sair -1\n"
     ]
    },
    {
     "name": "stdout",
     "output_type": "stream",
     "text": [
      "a soma dos numeros digitados: 45\n"
     ]
    }
   ],
   "source": [
    "soma = 0\n",
    "while True:\n",
    "    numeros = int(input('digite seu numero, negativo para sair'))\n",
    "    if numeros < 0:\n",
    "        break\n",
    "    soma += numeros\n",
    "print('a soma dos numeros digitados:',soma)"
   ]
  },
  {
   "cell_type": "code",
   "execution_count": null,
   "id": "4268e534-9a6e-465c-ab27-1915f53df5c4",
   "metadata": {},
   "outputs": [],
   "source": []
  }
 ],
 "metadata": {
  "kernelspec": {
   "display_name": "Python 3 (ipykernel)",
   "language": "python",
   "name": "python3"
  },
  "language_info": {
   "codemirror_mode": {
    "name": "ipython",
    "version": 3
   },
   "file_extension": ".py",
   "mimetype": "text/x-python",
   "name": "python",
   "nbconvert_exporter": "python",
   "pygments_lexer": "ipython3",
   "version": "3.12.7"
  }
 },
 "nbformat": 4,
 "nbformat_minor": 5
}
