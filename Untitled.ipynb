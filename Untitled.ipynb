{
 "cells": [
  {
   "cell_type": "code",
   "execution_count": null,
   "id": "53667573-6fc7-432e-b3a3-a96054825354",
   "metadata": {},
   "outputs": [],
   "source": [
    "nome = input(\"Digite seu nome: \")\n",
    "print(f\"Olá, {nome}! Seja bem-vindo(a)!\")\n"
   ]
  },
  {
   "cell_type": "code",
   "execution_count": null,
   "id": "0ad10c68-a01a-4396-9df3-9fcf5610b102",
   "metadata": {},
   "outputs": [],
   "source": [
    "n1 = int(input(\"Digite o primeiro número: \"))\n",
    "n2 = int(input(\"Digite o segundo número: \"))\n",
    "print(\"Soma:\", n1 + n2)\n"
   ]
  },
  {
   "cell_type": "code",
   "execution_count": null,
   "id": "17f0e26e-81d8-454e-97a9-62a54acf5ef0",
   "metadata": {},
   "outputs": [],
   "source": [
    "a = float(input(\"Digite o primeiro número: \"))\n",
    "b = float(input(\"Digite o segundo número: \"))\n",
    "print(\"Soma:\", a + b)\n",
    "print(\"Subtração:\", a - b)\n",
    "print(\"Multiplicação:\", a * b)\n",
    "print(\"Divisão:\", a / b)\n"
   ]
  },
  {
   "cell_type": "code",
   "execution_count": null,
   "id": "698d5f83-1c87-4fa9-9a7a-7adde14808b2",
   "metadata": {},
   "outputs": [],
   "source": [
    "nome = input(\"Nome: \")\n",
    "idade = input(\"Idade: \")\n",
    "cidade = input(\"Cidade: \")\n",
    "print(f\"{nome}, {idade} anos, mora em {cidade}.\")\n"
   ]
  },
  {
   "cell_type": "code",
   "execution_count": null,
   "id": "33d52c05-696c-4d33-bab8-bc184a2ef7de",
   "metadata": {},
   "outputs": [],
   "source": [
    "n1 = float(input(\"Nota 1: \"))\n",
    "n2 = float(input(\"Nota 2: \"))\n",
    "n3 = float(input(\"Nota 3: \"))\n",
    "media = (n1 + n2 + n3) / 3\n",
    "print(\"Média:\", media)\n"
   ]
  },
  {
   "cell_type": "code",
   "execution_count": null,
   "id": "2972c5e1-f8d1-47c4-909c-d4e5137ec9f5",
   "metadata": {},
   "outputs": [],
   "source": [
    "base = float(input(\"Base do retângulo: \"))\n",
    "altura = float(input(\"Altura: \"))\n",
    "area = base * altura\n",
    "print(\"Área:\", area)\n"
   ]
  },
  {
   "cell_type": "code",
   "execution_count": null,
   "id": "7339cce3-eed6-4155-8179-361072b6b610",
   "metadata": {},
   "outputs": [],
   "source": [
    "c = float(input(\"Temperatura em °C: \"))\n",
    "f = (c * 9/5) + 32\n",
    "print(\"Temperatura em °F:\", f)\n"
   ]
  },
  {
   "cell_type": "code",
   "execution_count": null,
   "id": "479a95ed-fcf4-497f-bf04-1016a7e93b4b",
   "metadata": {},
   "outputs": [],
   "source": [
    "lado = float(input(\"Lado do quadrado: \"))\n",
    "print(\"Perímetro:\", 4 * lado)\n"
   ]
  },
  {
   "cell_type": "code",
   "execution_count": null,
   "id": "5853a91e-30a2-484f-8ccf-6592a254d498",
   "metadata": {},
   "outputs": [],
   "source": [
    "reais = float(input(\"Valor em reais: \"))\n",
    "taxa = float(input(\"Taxa de conversão (R$ → US$): \"))\n",
    "print(\"Valor em dólares:\", reais * taxa)\n"
   ]
  },
  {
   "cell_type": "code",
   "execution_count": null,
   "id": "b9ff950c-e034-4201-a0eb-ee05d03f69d7",
   "metadata": {},
   "outputs": [],
   "source": [
    "reais = float(input(\"Valor em reais: \"))\n",
    "taxa = float(input(\"Taxa de conversão (R$ → US$): \"))\n",
    "print(\"Valor em dólares:\", reais * taxa)\n"
   ]
  },
  {
   "cell_type": "code",
   "execution_count": null,
   "id": "000cc340-5e39-4895-abbd-610b4874ae0c",
   "metadata": {},
   "outputs": [],
   "source": [
    "base = float(input(\"Base: \"))\n",
    "altura = float(input(\"Altura: \"))\n",
    "area = (base * altura) / 2\n",
    "print(\"Área do triângulo:\", area)\n"
   ]
  },
  {
   "cell_type": "code",
   "execution_count": null,
   "id": "e907ce17-b97c-4a15-9bd9-1009788fa253",
   "metadata": {},
   "outputs": [],
   "source": []
  },
  {
   "cell_type": "code",
   "execution_count": null,
   "id": "0c316e91-0c6a-4e50-8fa4-218477a17912",
   "metadata": {},
   "outputs": [],
   "source": []
  },
  {
   "cell_type": "code",
   "execution_count": null,
   "id": "14d13123-509e-4a35-91eb-483664b6672a",
   "metadata": {},
   "outputs": [],
   "source": []
  },
  {
   "cell_type": "code",
   "execution_count": null,
   "id": "a50d2b4a-ef5e-4b26-9a9b-3150baf8edb2",
   "metadata": {},
   "outputs": [],
   "source": []
  }
 ],
 "metadata": {
  "kernelspec": {
   "display_name": "Python 3 (ipykernel)",
   "language": "python",
   "name": "python3"
  },
  "language_info": {
   "codemirror_mode": {
    "name": "ipython",
    "version": 3
   },
   "file_extension": ".py",
   "mimetype": "text/x-python",
   "name": "python",
   "nbconvert_exporter": "python",
   "pygments_lexer": "ipython3",
   "version": "3.12.7"
  }
 },
 "nbformat": 4,
 "nbformat_minor": 5
}
