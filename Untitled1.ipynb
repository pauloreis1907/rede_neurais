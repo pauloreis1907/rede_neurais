{
 "cells": [
  {
   "cell_type": "code",
   "execution_count": 14,
   "id": "80bdbd7a-ad61-43be-8cff-ddc1dc93a626",
   "metadata": {},
   "outputs": [
    {
     "name": "stdout",
     "output_type": "stream",
     "text": [
      "3\n",
      "6\n",
      "9\n",
      "12\n",
      "15\n",
      "18\n",
      "21\n",
      "24\n",
      "27\n",
      "30\n",
      "33\n",
      "36\n",
      "39\n",
      "42\n",
      "45\n",
      "48\n",
      "51\n",
      "54\n",
      "57\n",
      "60\n",
      "63\n",
      "66\n",
      "69\n",
      "72\n",
      "75\n",
      "78\n",
      "81\n",
      "84\n",
      "87\n",
      "90\n",
      "93\n",
      "96\n",
      "99\n"
     ]
    }
   ],
   "source": [
    "for i in range(0,100):\n",
    "    if i%3==0 and i!=0:\n",
    "        print(i)"
   ]
  },
  {
   "cell_type": "code",
   "execution_count": 18,
   "id": "f2ecaf71-b4d8-4954-9800-df46c9460192",
   "metadata": {},
   "outputs": [
    {
     "ename": "SyntaxError",
     "evalue": "invalid syntax. Perhaps you forgot a comma? (260407901.py, line 1)",
     "output_type": "error",
     "traceback": [
      "\u001b[1;36m  Cell \u001b[1;32mIn[18], line 1\u001b[1;36m\u001b[0m\n\u001b[1;33m    produtos = ['coca, 'pepsi', 'guaraná', sprite', 'fanta', 'dolly', baré', guaraná jesus', 'teté',]\u001b[0m\n\u001b[1;37m                ^\u001b[0m\n\u001b[1;31mSyntaxError\u001b[0m\u001b[1;31m:\u001b[0m invalid syntax. Perhaps you forgot a comma?\n"
     ]
    }
   ],
   "source": [
    "produtos = ['coca, 'pepsi', 'guaraná', sprite', 'fanta', 'dolly', baré', guaraná jesus', 'teté',]\n",
    "\n",
    "produção = [15000,12000,13000,5000,250,3000,5000,500,300]\n",
    "tamanho = len(produtos) # pegar a quantidade de intens da lista\n",
    "print(tamanho) "
   ]
  },
  {
   "cell_type": "code",
   "execution_count": null,
   "id": "22fbbe5a-ba0a-417f-9440-7b689d15128d",
   "metadata": {},
   "outputs": [],
   "source": [
    "# imprimir apenas os produtos que tenham a produção >"
   ]
  },
  {
   "cell_type": "code",
   "execution_count": 38,
   "id": "de206648-0905-4ae5-9146-81c6e6c3bc4e",
   "metadata": {},
   "outputs": [
    {
     "name": "stdout",
     "output_type": "stream",
     "text": [
      "arroz\n",
      "feijão\n",
      "macarrão\n",
      "azeite\n",
      "farinha\n",
      "açúcar\n"
     ]
    }
   ],
   "source": [
    "# 1. Imprima todos os itens de uma lista de compras.\n",
    "\n",
    "lista_compras = ['arroz', 'feijão', 'macarrão', 'azeite', 'farinha', 'açúcar']\n",
    "for i in lista_compras:\n",
    "    print(i)\n"
   ]
  },
  {
   "cell_type": "code",
   "execution_count": null,
   "id": "40c2fc40-79c8-4b0a-b7c7-947172810fff",
   "metadata": {},
   "outputs": [],
   "source": []
  },
  {
   "cell_type": "code",
   "execution_count": 45,
   "id": "d8474a38-42b0-4468-b4fe-0ba98c7d1a18",
   "metadata": {},
   "outputs": [
    {
     "name": "stdout",
     "output_type": "stream",
     "text": [
      "a soma dos valores é: 150\n"
     ]
    }
   ],
   "source": [
    "# 2. Calcule e exiba a soma de todos os números em uma lista.\n",
    "\n",
    "numeros = [10, 20, 30, 40, 50]\n",
    "soma = 0\n",
    "for i in range(len(numeros)):\n",
    "    soma += numeros[i]\n",
    "print('a soma dos valores é:',soma)\n",
    "\n",
    "\n"
   ]
  },
  {
   "cell_type": "code",
   "execution_count": 47,
   "id": "2188f540-b832-4839-9def-eeb1339f4146",
   "metadata": {},
   "outputs": [
    {
     "ename": "SyntaxError",
     "evalue": "invalid syntax (3903150161.py, line 1)",
     "output_type": "error",
     "traceback": [
      "\u001b[1;36m  Cell \u001b[1;32mIn[47], line 1\u001b[1;36m\u001b[0m\n\u001b[1;33m    3. Conte quantos números ímpares existem em uma lista.\u001b[0m\n\u001b[1;37m       ^\u001b[0m\n\u001b[1;31mSyntaxError\u001b[0m\u001b[1;31m:\u001b[0m invalid syntax\n"
     ]
    }
   ],
   "source": [
    "3. Conte quantos números ímpares existem em uma lista.\n",
    "\n",
    "numeros = [1, 4, 7, 10, 13, 16, 19, 22]\n",
    "for i numeros:\n",
    "if i%2 != 1:\n",
    "    num_impar += 1\n",
    "    print('A lista possui{} numeros ímpares'.format(num_impar))"
   ]
  },
  {
   "cell_type": "code",
   "execution_count": 53,
   "id": "9bf8ae4d-2099-44d9-8116-ac4bab2d8823",
   "metadata": {},
   "outputs": [
    {
     "ename": "SyntaxError",
     "evalue": "invalid syntax (2409935692.py, line 1)",
     "output_type": "error",
     "traceback": [
      "\u001b[1;36m  Cell \u001b[1;32mIn[53], line 1\u001b[1;36m\u001b[0m\n\u001b[1;33m    4. Verifique quais números de uma lista são múltiplos de 5 e imprima-os.\u001b[0m\n\u001b[1;37m       ^\u001b[0m\n\u001b[1;31mSyntaxError\u001b[0m\u001b[1;31m:\u001b[0m invalid syntax\n"
     ]
    }
   ],
   "source": [
    "4. Verifique quais números de uma lista são múltiplos de 5 e imprima-os.\n",
    "\n",
    "numeros = [5, 10, 13, 20, 25, 28, 30, 33, 40, 45]\n",
    "for i in numeros:\n",
    "    if in i%5==0:\n",
    "        print('{} é multiplo de 5'.format(i))\n"
   ]
  },
  {
   "cell_type": "code",
   "execution_count": 49,
   "id": "910aa025-93b0-4b53-a997-c59a2bd7cf01",
   "metadata": {
    "jupyter": {
     "source_hidden": true
    }
   },
   "outputs": [
    {
     "ename": "SyntaxError",
     "evalue": "invalid syntax (3739878167.py, line 1)",
     "output_type": "error",
     "traceback": [
      "\u001b[1;36m  Cell \u001b[1;32mIn[49], line 1\u001b[1;36m\u001b[0m\n\u001b[1;33m    5. Multiplique todos os valores de uma lista por 2 e armazene em uma nova lista.\u001b[0m\n\u001b[1;37m       ^\u001b[0m\n\u001b[1;31mSyntaxError\u001b[0m\u001b[1;31m:\u001b[0m invalid syntax\n"
     ]
    }
   ],
   "source": [
    "5. Multiplique todos os valores de uma lista por 2 e armazene em uma nova lista.\n",
    "\n",
    "numeros = [1, 2, 3, 4, 5]\n",
    "\n",
    "num_mult = []\n",
    "for in numeros:\n",
    "mult  = 1*2\n",
    "num_mult = 1*2\n",
    "num_mult.append(mult)\n",
    "print(num_mult)"
   ]
  },
  {
   "cell_type": "code",
   "execution_count": 55,
   "id": "d1d4c004-7f68-4b5f-82cf-690a3c6b25d8",
   "metadata": {},
   "outputs": [
    {
     "ename": "SyntaxError",
     "evalue": "invalid syntax (3233525093.py, line 1)",
     "output_type": "error",
     "traceback": [
      "\u001b[1;36m  Cell \u001b[1;32mIn[55], line 1\u001b[1;36m\u001b[0m\n\u001b[1;33m    6. Transforme todas as palavras de uma lista de nomes em maiúsculas.\u001b[0m\n\u001b[1;37m       ^\u001b[0m\n\u001b[1;31mSyntaxError\u001b[0m\u001b[1;31m:\u001b[0m invalid syntax\n"
     ]
    }
   ],
   "source": [
    "\n",
    "6. Transforme todas as palavras de uma lista de nomes em maiúsculas.\n",
    "\n",
    "nomes = ['joão', 'maria', 'ana', 'carlos']\n",
    "nomes_maiusc=[]\n",
    "for i in nomes:\n",
    "    item = i.upper()\n",
    "    nomes_maiusc.apend(apend)\n",
    "print(nomes_maiusc)"
   ]
  },
  {
   "cell_type": "code",
   "execution_count": null,
   "id": "6decf032-4d9a-4ef5-85cd-5b0839dc211d",
   "metadata": {},
   "outputs": [],
   "source": []
  }
 ],
 "metadata": {
  "kernelspec": {
   "display_name": "Python 3 (ipykernel)",
   "language": "python",
   "name": "python3"
  },
  "language_info": {
   "codemirror_mode": {
    "name": "ipython",
    "version": 3
   },
   "file_extension": ".py",
   "mimetype": "text/x-python",
   "name": "python",
   "nbconvert_exporter": "python",
   "pygments_lexer": "ipython3",
   "version": "3.12.7"
  }
 },
 "nbformat": 4,
 "nbformat_minor": 5
}
